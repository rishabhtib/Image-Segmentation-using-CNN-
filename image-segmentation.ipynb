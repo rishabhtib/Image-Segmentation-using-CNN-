{
 "cells": [
  {
   "cell_type": "code",
   "execution_count": 126,
   "id": "42892fec",
   "metadata": {},
   "outputs": [],
   "source": [
    "import torch\n",
    "import torch.nn as nn\n",
    "import torch.optim as optim\n",
    "from torch.utils.data import Dataset, DataLoader\n",
    "from torchvision import transforms\n",
    "import torchvision.transforms.functional as TF\n",
    "from sklearn.model_selection import train_test_split\n",
    "from PIL import Image\n",
    "from PIL import Image, ImageDraw\n",
    "import matplotlib.pyplot as plt"
   ]
  },
  {
   "cell_type": "code",
   "execution_count": 127,
   "id": "5ec88a29",
   "metadata": {},
   "outputs": [
    {
     "data": {
      "image/png": "[encoded data removed]",
      "text/plain": [
       "<Figure size 640x480 with 10 Axes>"
      ]
     },
     "metadata": {},
     "output_type": "display_data"
    }
   ],
   "source": [
    "    \n",
    "# Example function to generate synthetic images\n",
    "data = []\n",
    "masks = []\n",
    "num_images = 5\n",
    "image_size = 128\n",
    "\n",
    "for _ in range(num_images):\n",
    "    random.seed(777)\n",
    "    \n",
    "    # Generating a random shape on a contrasting background\n",
    "    img = Image.new('RGB', (image_size, image_size), (255, 255, 255))  # White background\n",
    "    draw_img = ImageDraw.Draw(img)\n",
    "    \n",
    "    mask = Image.new('L', (image_size, image_size), 0)  # Initialize mask\n",
    "    draw_mask = ImageDraw.Draw(mask)\n",
    "    \n",
    "    # Adding a random shape (e.g., circle)\n",
    "    shape_type = random.choice(['circle', 'square'])\n",
    "    \n",
    "    if shape_type == 'circle':\n",
    "        center = (random.randint(20, image_size-20), random.randint(20, image_size-20))\n",
    "        radius = random.randint(10, 30)\n",
    "        \n",
    "        draw_img.ellipse([center[0]-radius, center[1]-radius, center[0]+radius, center[1]+radius], fill=(0, 0, 0))  # Black circle\n",
    "        draw_mask.ellipse([center[0]-radius, center[1]-radius, center[0]+radius, center[1]+radius], fill=255)  # White circle in the mask\n",
    "    \n",
    "    data.append(img)\n",
    "    masks.append(mask)\n",
    "\n",
    "# Displaying the generated images and masks\n",
    "for i in range(num_images):\n",
    "    plt.subplot(2, num_images, i + 1)\n",
    "    plt.imshow(data[i])\n",
    "    plt.axis('off')\n",
    "    plt.title(f'Image {i + 1}')\n",
    "\n",
    "    plt.subplot(2, num_images, i + num_images + 1)\n",
    "    plt.imshow(masks[i], cmap='gray')\n",
    "    plt.axis('off')\n",
    "    plt.title(f'Mask {i + 1}')\n",
    "\n",
    "plt.show()"
   ]
  },
  {
   "cell_type": "code",
   "execution_count": 128,
   "id": "5ce53567",
   "metadata": {},
   "outputs": [],
   "source": [
    "# Defining architecture\n",
    "class arch(nn.Module):\n",
    "    def __init__(self):\n",
    "        super(arch, self).__init__()\n",
    "        # Encoder\n",
    "        self.encoder = nn.Sequential(\n",
    "            nn.Conv2d(3, 64, kernel_size=3, padding=1),\n",
    "            nn.ReLU(inplace=True),\n",
    "            nn.Conv2d(64, 64, kernel_size=3, padding=1),\n",
    "            nn.ReLU(inplace=True),\n",
    "            nn.MaxPool2d(kernel_size=2, stride=2)\n",
    "        )\n",
    "        # Decoder\n",
    "        self.decoder = nn.Sequential(\n",
    "            nn.Conv2d(64, 64, kernel_size=3, padding=1),\n",
    "            nn.ReLU(inplace=True),\n",
    "            nn.Conv2d(64, 64, kernel_size=3, padding=1),\n",
    "            nn.ReLU(inplace=True),\n",
    "            nn.ConvTranspose2d(64, 1, kernel_size=2, stride=2)  # Change the output channels to 1 for binary segmentation\n",
    "        )\n",
    "\n",
    "    def forward(self, x):\n",
    "        x1 = self.encoder(x)\n",
    "        x2 = self.decoder(x1)\n",
    "        return x2"
   ]
  },
  {
   "cell_type": "code",
   "execution_count": 129,
   "id": "ff30d15d",
   "metadata": {},
   "outputs": [],
   "source": [
    "\n",
    "# creating different images to train\n",
    "\n",
    "import random\n",
    "\n",
    "class SyntheticDataset(Dataset):\n",
    "    def __init__(self, transform=None):\n",
    "        self.transform = transform\n",
    "\n",
    "    def __len__(self):\n",
    "        return 100\n",
    "\n",
    "    def __getitem__(self, idx):\n",
    "        # Generate a synthetic image with a colored rectangle\n",
    "        image = Image.new('RGB', (256, 256), (255, 255, 255))\n",
    "        draw = ImageDraw.Draw(image)\n",
    "\n",
    "        # Randomize the position of the rectangle\n",
    "        x1 = random.randint(0, 200)\n",
    "        y1 = random.randint(0, 200)\n",
    "        x2 = random.randint(x1 + 50, 256)\n",
    "        y2 = random.randint(y1 + 50, 256)\n",
    "\n",
    "        # Randomly choose RGB colors\n",
    "        color = (random.randint(0, 255), random.randint(0, 255), random.randint(0, 255))\n",
    "\n",
    "        draw.rectangle([x1, y1, x2, y2], fill=color)  # Colored rectangle\n",
    "\n",
    "        # Generate the corresponding binary mask\n",
    "        mask = Image.new('L', (256, 256), 0)\n",
    "        draw_mask = ImageDraw.Draw(mask)\n",
    "        draw_mask.rectangle([x1, y1, x2, y2], fill=255)  # Mask for the rectangle\n",
    "\n",
    "        if self.transform:\n",
    "            image = self.transform(image)\n",
    "            mask = self.transform(mask)\n",
    "\n",
    "        return image, mask\n",
    "\n"
   ]
  },
  {
   "cell_type": "code",
   "execution_count": 130,
   "id": "f28c4985",
   "metadata": {
    "scrolled": true
   },
   "outputs": [
    {
     "data": {
      "image/png": "[encoded data removed]",
      "text/plain": [
       "<Figure size 1200x400 with 3 Axes>"
      ]
     },
     "metadata": {},
     "output_type": "display_data"
    }
   ],
   "source": [
    "# Define transformations\n",
    "transform = transforms.Compose([\n",
    "    transforms.Resize((256, 256)),\n",
    "    transforms.ToTensor(),\n",
    "])\n",
    "\n",
    "# Create a synthetic dataset and dataloader\n",
    "synthetic_dataset = SyntheticDataset(transform=transform)\n",
    "synthetic_dataloader = DataLoader(synthetic_dataset, batch_size=16, shuffle=True)\n",
    "# image, mask = synthetic_dataset[700000]\n",
    "# print(image, '\\n')\n",
    "# print(mask)\n",
    "\n",
    "import matplotlib.pyplot as plt\n",
    "import numpy as np\n",
    "\n",
    "# Assuming `synthetic_dataset` is an instance of SyntheticDataset\n",
    "num_samples_to_plot = 3\n",
    "\n",
    "# Create a subplot for each sample\n",
    "fig, axes = plt.subplots(1, num_samples_to_plot, figsize=(12, 4))\n",
    "\n",
    "for i in range(num_samples_to_plot):\n",
    "    # Get the i-th sample\n",
    "    image, mask = synthetic_dataset[i]\n",
    "\n",
    "    # Convert image from (3, 256, 256) to (256, 256, 3)\n",
    "    image = np.transpose(image, (1, 2, 0))\n",
    "\n",
    "    # Plot the image\n",
    "    axes[i].imshow(image)\n",
    "    axes[i].set_title(f'Sample {i + 1}')\n",
    "\n",
    "    # Optionally, you can also plot the mask\n",
    "    # axes[i].imshow(mask, cmap='gray', alpha=0.5)\n",
    "\n",
    "    # Turn off axis labels\n",
    "    axes[i].axis('off')\n",
    "\n",
    "plt.show()\n",
    "\n"
   ]
  },
  {
   "cell_type": "code",
   "execution_count": 131,
   "id": "f26ca1ca",
   "metadata": {},
   "outputs": [
    {
     "name": "stdout",
     "output_type": "stream",
     "text": [
      "Epoch 1/12, Loss: 0.32530707120895386\n",
      "Epoch 2/12, Loss: 0.22486424446105957\n",
      "Epoch 3/12, Loss: 0.06381543725728989\n",
      "Epoch 4/12, Loss: 0.07481800764799118\n",
      "Epoch 5/12, Loss: 0.011325364001095295\n",
      "Epoch 6/12, Loss: 0.007847385480999947\n",
      "Epoch 7/12, Loss: 0.03300749137997627\n",
      "Epoch 8/12, Loss: 0.012769931927323341\n",
      "Epoch 9/12, Loss: 0.018344201147556305\n",
      "Epoch 10/12, Loss: 0.017287805676460266\n",
      "Epoch 11/12, Loss: 0.009926688857376575\n",
      "Epoch 12/12, Loss: 0.01766495779156685\n"
     ]
    }
   ],
   "source": [
    "# Initialize the model, loss function, and optimizer\n",
    "model = arch()\n",
    "criterion = nn.BCEWithLogitsLoss()\n",
    "optimizer = optim.Adam(model.parameters(), lr=0.001)\n",
    "\n",
    "# Training loop\n",
    "num_epochs = 12\n",
    "for epoch in range(num_epochs):\n",
    "    model.train()\n",
    "    for images, masks in synthetic_dataloader:\n",
    "        optimizer.zero_grad()\n",
    "        outputs = model(images)\n",
    "        loss = criterion(outputs, masks)\n",
    "        loss.backward()\n",
    "        optimizer.step()\n",
    "\n",
    "    print(f\"Epoch {epoch+1}/{num_epochs}, Loss: {loss.item()}\")"
   ]
  },
  {
   "cell_type": "code",
   "execution_count": 132,
   "id": "f32eb5fc",
   "metadata": {},
   "outputs": [],
   "source": [
    "\n",
    "# random.seed(11)\n",
    "class testDataset(Dataset):\n",
    "    def __init__(self, transform=None):\n",
    "        self.transform = transform\n",
    "\n",
    "    def __len__(self):\n",
    "        return 1\n",
    "\n",
    "    def __getitem__(self, idx):\n",
    "        # Generate a synthetic image with a colored rectangle\n",
    "        imag = Image.new('RGB', (256, 256), (255, 255, 255))\n",
    "        draw = ImageDraw.Draw(imag)\n",
    "        # Randomizing the position of the rectangle for testing\n",
    "        x1 = random.randint(0, 200)\n",
    "        y1 = random.randint(0, 200)\n",
    "        x2 = random.randint(x1 + 50, 256)\n",
    "        y2 = random.randint(y1 + 50, 256)\n",
    "\n",
    "        color = (random.randint(0, 255), random.randint(0, 255), random.randint(0, 255))\n",
    "        draw.rectangle([x1, y1, x2, y2], fill=color)  # Colored rectangle\n",
    "\n",
    "        # Generate the corresponding binary mask\n",
    "        mas = Image.new('L', (256, 256), 0)\n",
    "        draw_mask = ImageDraw.Draw(mas)\n",
    "        draw_mask.rectangle([x1, y1, x2, y2], fill=255)  # Mask for the rectangle\n",
    "\n",
    "        if self.transform:\n",
    "            imag = self.transform(imag)\n",
    "            mas = self.transform(mas)\n",
    "\n",
    "        return imag, mas\n",
    "\n",
    "# Define transformations\n",
    "transform = transforms.Compose([\n",
    "    transforms.Resize((256, 256)),\n",
    "    transforms.ToTensor(),\n",
    "])\n",
    "\n",
    "# Create a synthetic dataset and dataloader\n",
    "test_dataset = testDataset(transform=transform)\n",
    "test_dataloader = DataLoader(ynthetic_dataset, batch_size=1, shuffle=True)\n",
    "\n",
    "# Synthetic validation example\n",
    "i, k = test_dataset[0]\n",
    "model.eval()\n",
    "with torch.no_grad():\n",
    "    output = model(i.unsqueeze(0))  # Add an extra dimension for batch size\n",
    "    prediction = torch.sigmoid(output) > 0.5\n",
    "    "
   ]
  },
  {
   "cell_type": "code",
   "execution_count": 133,
   "id": "c51e58b0",
   "metadata": {},
   "outputs": [
    {
     "data": {
      "image/png": "[encoded data removed]",
      "text/plain": [
       "<Figure size 640x480 with 1 Axes>"
      ]
     },
     "metadata": {},
     "output_type": "display_data"
    }
   ],
   "source": [
    "\n",
    "i = np.transpose(i, (1, 2, 0))\n",
    "# Plot the image\n",
    "plt.imshow(i)\n",
    "plt.title('Synthetic Validation Example')\n",
    "plt.show()\n"
   ]
  },
  {
   "cell_type": "code",
   "execution_count": 134,
   "id": "8e30f200",
   "metadata": {},
   "outputs": [
    {
     "data": {
      "image/png": "[encoded data removed]",
      "text/plain": [
       "<Figure size 1000x400 with 3 Axes>"
      ]
     },
     "metadata": {},
     "output_type": "display_data"
    }
   ],
   "source": [
    "plt.figure(figsize=(10, 4))\n",
    "# plt.subplot(1, 3, 1)\n",
    "# plt.imshow(TF.to_pil_image(i[0]))\n",
    "plt.subplot(1, 3, 1)\n",
    "plt.imshow(TF.to_pil_image(i.permute(2, 0, 1))) \n",
    "plt.title(\"Input Image\")\n",
    "\n",
    "plt.subplot(1, 3, 2)\n",
    "plt.imshow(TF.to_pil_image(k[0]),cmap = 'gray')\n",
    "plt.title(\"Ground Truth Mask\")\n",
    "\n",
    "plt.subplot(1, 3, 3)\n",
    "plt.imshow(TF.to_pil_image(prediction[0].float()),cmap ='gray')  # Convert to float before visualization\n",
    "plt.title(\"Predicted Mask\")\n",
    "\n",
    "plt.show()"
   ]
  },
  {
   "cell_type": "markdown",
   "id": "219d993e",
   "metadata": {},
   "source": []
  },
  {
   "cell_type": "code",
   "execution_count": null,
   "id": "7262656f",
   "metadata": {},
   "outputs": [],
   "source": []
  },
  {
   "cell_type": "code",
   "execution_count": null,
   "id": "a5ede13d",
   "metadata": {},
   "outputs": [],
   "source": []
  }
 ],
 "metadata": {
  "kernelspec": {
   "display_name": "Python 3 (ipykernel)",
   "language": "python",
   "name": "python3"
  },
  "language_info": {
   "codemirror_mode": {
    "name": "ipython",
    "version": 3
   },
   "file_extension": ".py",
   "mimetype": "text/x-python",
   "name": "python",
   "nbconvert_exporter": "python",
   "pygments_lexer": "ipython3",
   "version": "3.11.2"
  }
 },
 "nbformat": 4,
 "nbformat_minor": 5
}
